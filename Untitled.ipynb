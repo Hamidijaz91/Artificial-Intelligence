{
 "cells": [
  {
   "cell_type": "code",
   "execution_count": 51,
   "id": "cda124ea",
   "metadata": {},
   "outputs": [],
   "source": [
    "#importing lib\n"
   ]
  },
  {
   "cell_type": "code",
   "execution_count": 52,
   "id": "1f37ef30",
   "metadata": {},
   "outputs": [],
   "source": [
    "import numpy as np\n",
    "import tensorflow as tf\n",
    "from keras.preprocessing.image import ImageDataGenerator"
   ]
  },
  {
   "cell_type": "code",
   "execution_count": 53,
   "id": "ced6b5b0",
   "metadata": {},
   "outputs": [
    {
     "name": "stdout",
     "output_type": "stream",
     "text": [
      "Found 4317 images belonging to 5 classes.\n"
     ]
    }
   ],
   "source": [
    "train_datagen = ImageDataGenerator(\n",
    "        rescale=1./255,\n",
    "        shear_range=0.2,\n",
    "        zoom_range=0.2,\n",
    "        horizontal_flip=True)\n",
    "training_set = train_datagen.flow_from_directory(\n",
    "        'training_set',\n",
    "        target_size=(64, 64),\n",
    "        batch_size=32,\n",
    "        class_mode='categorical')"
   ]
  },
  {
   "cell_type": "code",
   "execution_count": 54,
   "id": "788dd597",
   "metadata": {},
   "outputs": [
    {
     "name": "stdout",
     "output_type": "stream",
     "text": [
      "Found 4317 images belonging to 5 classes.\n"
     ]
    }
   ],
   "source": [
    "test_datagen = ImageDataGenerator(rescale=1./255)\n",
    "test_set = test_datagen.flow_from_directory(\n",
    "        'test_set',\n",
    "        target_size=(64, 64),\n",
    "        batch_size=32,\n",
    "        class_mode='categorical')"
   ]
  },
  {
   "cell_type": "code",
   "execution_count": 55,
   "id": "a4a51905",
   "metadata": {},
   "outputs": [],
   "source": [
    "cnn = tf.keras.models.Sequential()"
   ]
  },
  {
   "cell_type": "code",
   "execution_count": 56,
   "id": "371bccc2",
   "metadata": {},
   "outputs": [],
   "source": [
    "cnn.add(tf.keras.layers.Conv2D(filters=64 , kernel_size=3 , activation='relu' , input_shape=[64,64,3]))\n",
    "cnn.add(tf.keras.layers.MaxPool2D(pool_size=2,strides=2))"
   ]
  },
  {
   "cell_type": "code",
   "execution_count": 57,
   "id": "3928a824",
   "metadata": {},
   "outputs": [],
   "source": [
    "cnn.add(tf.keras.layers.Conv2D(filters=64 , kernel_size=3 , activation='relu' ))\n",
    "cnn.add(tf.keras.layers.MaxPool2D(pool_size=2 , strides=2))"
   ]
  },
  {
   "cell_type": "code",
   "execution_count": 58,
   "id": "b90ae318",
   "metadata": {},
   "outputs": [],
   "source": [
    "cnn.add(tf.keras.layers.Dropout(0.5))"
   ]
  },
  {
   "cell_type": "code",
   "execution_count": 59,
   "id": "af057fec",
   "metadata": {},
   "outputs": [],
   "source": [
    "cnn.add(tf.keras.layers.Flatten())"
   ]
  },
  {
   "cell_type": "code",
   "execution_count": 60,
   "id": "e5421c82",
   "metadata": {},
   "outputs": [],
   "source": [
    "cnn.add(tf.keras.layers.Dense(units=128, activation='relu'))"
   ]
  },
  {
   "cell_type": "code",
   "execution_count": 61,
   "id": "4d35be07",
   "metadata": {},
   "outputs": [],
   "source": [
    "cnn.add(tf.keras.layers.Dense(units=5 , activation='softmax'))"
   ]
  },
  {
   "cell_type": "code",
   "execution_count": 62,
   "id": "310a70c9",
   "metadata": {},
   "outputs": [],
   "source": [
    "cnn.compile(optimizer = 'rmsprop' , loss = 'categorical_crossentropy' , metrics = ['accuracy'])"
   ]
  },
  {
   "cell_type": "code",
   "execution_count": 63,
   "id": "a15ac0aa",
   "metadata": {},
   "outputs": [
    {
     "name": "stdout",
     "output_type": "stream",
     "text": [
      "Epoch 1/30\n",
      "135/135 [==============================] - 70s 502ms/step - loss: 1.3270 - accuracy: 0.4487 - val_loss: 1.0363 - val_accuracy: 0.5939\n",
      "Epoch 2/30\n",
      "135/135 [==============================] - 64s 474ms/step - loss: 1.0600 - accuracy: 0.5770 - val_loss: 1.4053 - val_accuracy: 0.4848\n",
      "Epoch 3/30\n",
      "135/135 [==============================] - 64s 475ms/step - loss: 0.9470 - accuracy: 0.6331 - val_loss: 0.8120 - val_accuracy: 0.6938\n",
      "Epoch 4/30\n",
      "135/135 [==============================] - 64s 474ms/step - loss: 0.8902 - accuracy: 0.6549 - val_loss: 0.8108 - val_accuracy: 0.6785\n",
      "Epoch 5/30\n",
      "135/135 [==============================] - 74s 551ms/step - loss: 0.8362 - accuracy: 0.6734 - val_loss: 0.6949 - val_accuracy: 0.7359\n",
      "Epoch 6/30\n",
      "135/135 [==============================] - 85s 631ms/step - loss: 0.7885 - accuracy: 0.6965 - val_loss: 0.6983 - val_accuracy: 0.7369\n",
      "Epoch 7/30\n",
      "135/135 [==============================] - 78s 580ms/step - loss: 0.7678 - accuracy: 0.7102 - val_loss: 0.7012 - val_accuracy: 0.7375\n",
      "Epoch 8/30\n",
      "135/135 [==============================] - 54s 405ms/step - loss: 0.7214 - accuracy: 0.7188 - val_loss: 0.6123 - val_accuracy: 0.7711\n",
      "Epoch 9/30\n",
      "135/135 [==============================] - 59s 439ms/step - loss: 0.7008 - accuracy: 0.7375 - val_loss: 0.6272 - val_accuracy: 0.7584\n",
      "Epoch 10/30\n",
      "135/135 [==============================] - 72s 537ms/step - loss: 0.6772 - accuracy: 0.7452 - val_loss: 0.5739 - val_accuracy: 0.7941\n",
      "Epoch 11/30\n",
      "135/135 [==============================] - 61s 449ms/step - loss: 0.6533 - accuracy: 0.7519 - val_loss: 0.5294 - val_accuracy: 0.8026\n",
      "Epoch 12/30\n",
      "135/135 [==============================] - 68s 507ms/step - loss: 0.6420 - accuracy: 0.7649 - val_loss: 0.4978 - val_accuracy: 0.8189\n",
      "Epoch 13/30\n",
      "135/135 [==============================] - 56s 415ms/step - loss: 0.6173 - accuracy: 0.7653 - val_loss: 0.4677 - val_accuracy: 0.8258\n",
      "Epoch 14/30\n",
      "135/135 [==============================] - 54s 404ms/step - loss: 0.6004 - accuracy: 0.7785 - val_loss: 0.5522 - val_accuracy: 0.7825\n",
      "Epoch 15/30\n",
      "135/135 [==============================] - 61s 457ms/step - loss: 0.5839 - accuracy: 0.7818 - val_loss: 0.4669 - val_accuracy: 0.8230\n",
      "Epoch 16/30\n",
      "135/135 [==============================] - 48s 355ms/step - loss: 0.5704 - accuracy: 0.7825 - val_loss: 0.4360 - val_accuracy: 0.8429\n",
      "Epoch 17/30\n",
      "135/135 [==============================] - 37s 275ms/step - loss: 0.5556 - accuracy: 0.7899 - val_loss: 0.4514 - val_accuracy: 0.8372\n",
      "Epoch 18/30\n",
      "135/135 [==============================] - 38s 281ms/step - loss: 0.5577 - accuracy: 0.7973 - val_loss: 0.4131 - val_accuracy: 0.8529\n",
      "Epoch 19/30\n",
      "135/135 [==============================] - 38s 279ms/step - loss: 0.5292 - accuracy: 0.8038 - val_loss: 0.6458 - val_accuracy: 0.7545\n",
      "Epoch 20/30\n",
      "135/135 [==============================] - 38s 280ms/step - loss: 0.5244 - accuracy: 0.8077 - val_loss: 0.4823 - val_accuracy: 0.8205\n",
      "Epoch 21/30\n",
      "135/135 [==============================] - 38s 278ms/step - loss: 0.5291 - accuracy: 0.8001 - val_loss: 0.4586 - val_accuracy: 0.8344\n",
      "Epoch 22/30\n",
      "135/135 [==============================] - 38s 282ms/step - loss: 0.5051 - accuracy: 0.8172 - val_loss: 0.3479 - val_accuracy: 0.8744\n",
      "Epoch 23/30\n",
      "135/135 [==============================] - 38s 280ms/step - loss: 0.4936 - accuracy: 0.8186 - val_loss: 0.3419 - val_accuracy: 0.8751\n",
      "Epoch 24/30\n",
      "135/135 [==============================] - 38s 279ms/step - loss: 0.4776 - accuracy: 0.8242 - val_loss: 0.4267 - val_accuracy: 0.8416\n",
      "Epoch 25/30\n",
      "135/135 [==============================] - 38s 280ms/step - loss: 0.4700 - accuracy: 0.8284 - val_loss: 0.3375 - val_accuracy: 0.8802\n",
      "Epoch 26/30\n",
      "135/135 [==============================] - 38s 283ms/step - loss: 0.4621 - accuracy: 0.8307 - val_loss: 0.3226 - val_accuracy: 0.8897\n",
      "Epoch 27/30\n",
      "135/135 [==============================] - 38s 281ms/step - loss: 0.4600 - accuracy: 0.8337 - val_loss: 0.2380 - val_accuracy: 0.9189\n",
      "Epoch 28/30\n",
      "135/135 [==============================] - 38s 279ms/step - loss: 0.4487 - accuracy: 0.8314 - val_loss: 0.2638 - val_accuracy: 0.9120\n",
      "Epoch 29/30\n",
      "135/135 [==============================] - 38s 279ms/step - loss: 0.4370 - accuracy: 0.8374 - val_loss: 0.2496 - val_accuracy: 0.9159\n",
      "Epoch 30/30\n",
      "135/135 [==============================] - 38s 283ms/step - loss: 0.4295 - accuracy: 0.8450 - val_loss: 0.2856 - val_accuracy: 0.9043\n"
     ]
    },
    {
     "data": {
      "text/plain": [
       "<keras.callbacks.History at 0x13e50f072b0>"
      ]
     },
     "execution_count": 63,
     "metadata": {},
     "output_type": "execute_result"
    }
   ],
   "source": [
    "cnn.fit(x = training_set , validation_data = test_set , epochs = 30)"
   ]
  },
  {
   "cell_type": "code",
   "execution_count": 64,
   "id": "36ca5cd5",
   "metadata": {},
   "outputs": [
    {
     "data": {
      "text/plain": [
       "{'daisy': 0, 'dandelion': 1, 'rose': 2, 'sunflower': 3, 'tulip': 4}"
      ]
     },
     "execution_count": 64,
     "metadata": {},
     "output_type": "execute_result"
    }
   ],
   "source": [
    "from keras.preprocessing import image\n",
    "test_image = image.load_img('prediction/s.jpg',target_size=(64,64))\n",
    "test_image = image.img_to_array(test_image)\n",
    "test_image = np.expand_dims(test_image,axis=0)\n",
    "result = cnn.predict(test_image)\n",
    "training_set.class_indices"
   ]
  },
  {
   "cell_type": "code",
   "execution_count": 65,
   "id": "1d991daa",
   "metadata": {},
   "outputs": [
    {
     "name": "stdout",
     "output_type": "stream",
     "text": [
      "[[0. 0. 0. 1. 0.]]\n"
     ]
    }
   ],
   "source": [
    "print(result)"
   ]
  },
  {
   "cell_type": "code",
   "execution_count": 66,
   "id": "981023f4",
   "metadata": {},
   "outputs": [
    {
     "name": "stdout",
     "output_type": "stream",
     "text": [
      "SunFlower\n"
     ]
    }
   ],
   "source": [
    "\n",
    "if result[0][0]==1:\n",
    "    print('Daisy')\n",
    "elif result[0][1]==1:\n",
    "    print('Dandelion')\n",
    "elif result[0][2]==1:\n",
    "    print('Rose')\n",
    "elif result[0][3]==1:\n",
    "    print('SunFlower')\n",
    "elif result[0][4]==1:\n",
    "    print(\"Tulip\")"
   ]
  },
  {
   "cell_type": "markdown",
   "id": "4e3a027f",
   "metadata": {},
   "source": []
  },
  {
   "cell_type": "code",
   "execution_count": null,
   "id": "7cc2f6d9",
   "metadata": {},
   "outputs": [],
   "source": []
  },
  {
   "cell_type": "code",
   "execution_count": null,
   "id": "254c9fe8",
   "metadata": {},
   "outputs": [],
   "source": []
  }
 ],
 "metadata": {
  "kernelspec": {
   "display_name": "Python 3 (ipykernel)",
   "language": "python",
   "name": "python3"
  },
  "language_info": {
   "codemirror_mode": {
    "name": "ipython",
    "version": 3
   },
   "file_extension": ".py",
   "mimetype": "text/x-python",
   "name": "python",
   "nbconvert_exporter": "python",
   "pygments_lexer": "ipython3",
   "version": "3.9.7"
  }
 },
 "nbformat": 4,
 "nbformat_minor": 5
}
